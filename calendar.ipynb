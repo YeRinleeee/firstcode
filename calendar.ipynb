{
  "nbformat": 4,
  "nbformat_minor": 0,
  "metadata": {
    "colab": {
      "provenance": [],
      "authorship_tag": "ABX9TyOTbCfqTdgUMvKl+WhEoPRc",
      "include_colab_link": true
    },
    "kernelspec": {
      "name": "python3",
      "display_name": "Python 3"
    },
    "language_info": {
      "name": "python"
    }
  },
  "cells": [
    {
      "cell_type": "markdown",
      "metadata": {
        "id": "view-in-github",
        "colab_type": "text"
      },
      "source": [
        "<a href=\"https://colab.research.google.com/github/YeRinleeee/firstcode/blob/main/calendar.ipynb\" target=\"_parent\"><img src=\"https://colab.research.google.com/assets/colab-badge.svg\" alt=\"Open In Colab\"/></a>"
      ]
    },
    {
      "cell_type": "code",
      "execution_count": 4,
      "metadata": {
        "colab": {
          "base_uri": "https://localhost:8080/"
        },
        "id": "Bry5BijpY4dn",
        "outputId": "77211e98-daa0-4bd3-fb2b-dc6892232532"
      },
      "outputs": [
        {
          "output_type": "stream",
          "name": "stdout",
          "text": [
            "    October 2023\n",
            "Mo Tu We Th Fr Sa Su\n",
            "                   1\n",
            " 2  3  4  5  6  7  8\n",
            " 9 10 11 12 13 14 15\n",
            "16 17 18 19 20 21 22\n",
            "23 24 25 26 27 28 29\n",
            "30 31\n",
            "\n"
          ]
        }
      ],
      "source": [
        "import calendar\n",
        "yy = 2023\n",
        "mm = 10\n",
        "print(calendar.month(yy,mm))\n"
      ]
    },
    {
      "cell_type": "markdown",
      "source": [
        "2023년 10월 19일 To Do List\n",
        "- 09:10 ~ 11:00  컴퓨팅적 사고와 기초코딩\n",
        "- 11:10 ~ 12:00  아동건강교육\n",
        "- 12:10 ~ 13:00  점심식사\n",
        "- 13:00 ~ 16:00  수면\n",
        "- 16:30 ~ 17:40  저녁식사\n",
        "- 18:00 ~ 24:00  중간고사 공부\n",
        "- 00:00 ~ 00:30  휴식\n",
        "- 00:30 ~ 03:00  중간고사 공부\n"
      ],
      "metadata": {
        "id": "-CtoxJzKasaR"
      }
    },
    {
      "cell_type": "code",
      "source": [
        "print(\"2023년 10월 19일 To Do List\")\n",
        "print(\"09:10 ~ 11:00 컴퓨팅적 사고와 기초코딩\")\n",
        "print(\"11:10 ~ 12:00 아동건강교육\")\n",
        "print(\"12:10 ~ 13:00 점심식사\")\n",
        "print(\"13:00 ~ 16:00 수면\")\n",
        "print(\"16:30 ~ 17:40 저녁식사\")\n",
        "print(\"18:00 ~ 24:00 중간고사 공부\")\n",
        "print(\"00:00 ~ 00:30 휴식\")\n",
        "print(\"00:30 ~ 03:00 중간고사 공부\")"
      ],
      "metadata": {
        "colab": {
          "base_uri": "https://localhost:8080/"
        },
        "id": "75xBq4utcBwY",
        "outputId": "3848c162-ad27-4e9e-a8a6-29308dff54db"
      },
      "execution_count": 8,
      "outputs": [
        {
          "output_type": "stream",
          "name": "stdout",
          "text": [
            "2023년 10월 19일 To Do List\n",
            "09:10 ~ 11:00 컴퓨팅적 사고와 기초코딩\n",
            "11:10 ~ 12:00 아동건강교육\n",
            "12:10 ~ 13:00 점심식사\n",
            "13:00 ~ 16:00 수면\n",
            "16:30 ~ 17:40 저녁식사\n",
            "18:00 ~ 24:00 중간고사 공부\n",
            "00:00 ~ 00:30 휴식\n",
            "00:30 ~ 03:00 중간고사 공부\n"
          ]
        }
      ]
    }
  ]
}